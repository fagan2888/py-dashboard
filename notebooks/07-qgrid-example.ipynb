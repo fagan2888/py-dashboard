{
 "cells": [
  {
   "cell_type": "markdown",
   "metadata": {},
   "source": [
    "# Example of using qrid to display dataframes"
   ]
  },
  {
   "cell_type": "code",
   "execution_count": 1,
   "metadata": {
    "ExecuteTime": {
     "end_time": "2019-11-23T05:51:35.445912Z",
     "start_time": "2019-11-23T05:51:34.395125Z"
    }
   },
   "outputs": [],
   "source": [
    "from faker import Faker\n",
    "import pandas as pd\n",
    "import random\n",
    "import qgrid\n",
    "import ipywidgets as widgets\n",
    "from IPython.display import display"
   ]
  },
  {
   "cell_type": "code",
   "execution_count": 2,
   "metadata": {
    "ExecuteTime": {
     "end_time": "2019-11-23T05:51:35.592513Z",
     "start_time": "2019-11-23T05:51:35.448932Z"
    }
   },
   "outputs": [],
   "source": [
    "fake = Faker()\n",
    "\n",
    "def create_rows(num=1):\n",
    "    output = [{\"name\":fake.name(),\n",
    "               \"address\":fake.address(),\n",
    "               \"bs\":fake.bs(),\n",
    "               \"address\":fake.address(),\n",
    "               \"city\":fake.city(),\n",
    "               \"state\":fake.state(),\n",
    "               \"date_time\":fake.date_time(),\n",
    "               \"randomdata\":random.randint(1000,2000)} for x in range(num)]\n",
    "    return output"
   ]
  },
  {
   "cell_type": "code",
   "execution_count": 3,
   "metadata": {
    "ExecuteTime": {
     "end_time": "2019-11-23T05:51:35.991071Z",
     "start_time": "2019-11-23T05:51:35.594422Z"
    }
   },
   "outputs": [],
   "source": [
    "df = pd.DataFrame(create_rows(500))"
   ]
  },
  {
   "cell_type": "code",
   "execution_count": 4,
   "metadata": {
    "ExecuteTime": {
     "end_time": "2019-11-23T05:51:36.035462Z",
     "start_time": "2019-11-23T05:51:35.992890Z"
    }
   },
   "outputs": [
    {
     "data": {
      "text/html": [
       "<div>\n",
       "<style scoped>\n",
       "    .dataframe tbody tr th:only-of-type {\n",
       "        vertical-align: middle;\n",
       "    }\n",
       "\n",
       "    .dataframe tbody tr th {\n",
       "        vertical-align: top;\n",
       "    }\n",
       "\n",
       "    .dataframe thead th {\n",
       "        text-align: right;\n",
       "    }\n",
       "</style>\n",
       "<table border=\"1\" class=\"dataframe\">\n",
       "  <thead>\n",
       "    <tr style=\"text-align: right;\">\n",
       "      <th></th>\n",
       "      <th>name</th>\n",
       "      <th>address</th>\n",
       "      <th>bs</th>\n",
       "      <th>city</th>\n",
       "      <th>state</th>\n",
       "      <th>date_time</th>\n",
       "      <th>randomdata</th>\n",
       "    </tr>\n",
       "  </thead>\n",
       "  <tbody>\n",
       "    <tr>\n",
       "      <th>0</th>\n",
       "      <td>Thomas Lamb</td>\n",
       "      <td>631 Elizabeth River\\nRebeccahaven, IN 41160</td>\n",
       "      <td>iterate innovative solutions</td>\n",
       "      <td>West Elizabeth</td>\n",
       "      <td>Louisiana</td>\n",
       "      <td>2009-09-29 14:03:59</td>\n",
       "      <td>1920</td>\n",
       "    </tr>\n",
       "    <tr>\n",
       "      <th>1</th>\n",
       "      <td>Nancy Davis</td>\n",
       "      <td>905 Cantrell Pass\\nBrownborough, MI 59514</td>\n",
       "      <td>leverage vertical infrastructures</td>\n",
       "      <td>Tonyfort</td>\n",
       "      <td>Pennsylvania</td>\n",
       "      <td>1979-03-18 11:54:53</td>\n",
       "      <td>1947</td>\n",
       "    </tr>\n",
       "    <tr>\n",
       "      <th>2</th>\n",
       "      <td>Cindy Hall</td>\n",
       "      <td>66469 Paula Causeway\\nSeanmouth, SD 46356</td>\n",
       "      <td>harness integrated action-items</td>\n",
       "      <td>North Michaelview</td>\n",
       "      <td>Kentucky</td>\n",
       "      <td>1989-11-26 10:11:55</td>\n",
       "      <td>1512</td>\n",
       "    </tr>\n",
       "    <tr>\n",
       "      <th>3</th>\n",
       "      <td>Jodi Trevino</td>\n",
       "      <td>Unit 2443 Box 6359\\nDPO AP 04228</td>\n",
       "      <td>implement integrated schemas</td>\n",
       "      <td>Lake Nicole</td>\n",
       "      <td>North Carolina</td>\n",
       "      <td>1992-12-01 09:27:47</td>\n",
       "      <td>1079</td>\n",
       "    </tr>\n",
       "    <tr>\n",
       "      <th>4</th>\n",
       "      <td>Lisa Baker</td>\n",
       "      <td>2986 Emily Vista\\nEast Lisa, AR 75173</td>\n",
       "      <td>benchmark world-class vortals</td>\n",
       "      <td>Cooperfurt</td>\n",
       "      <td>Wisconsin</td>\n",
       "      <td>2005-12-13 18:55:24</td>\n",
       "      <td>1103</td>\n",
       "    </tr>\n",
       "  </tbody>\n",
       "</table>\n",
       "</div>"
      ],
      "text/plain": [
       "           name                                      address  \\\n",
       "0   Thomas Lamb  631 Elizabeth River\\nRebeccahaven, IN 41160   \n",
       "1   Nancy Davis    905 Cantrell Pass\\nBrownborough, MI 59514   \n",
       "2    Cindy Hall    66469 Paula Causeway\\nSeanmouth, SD 46356   \n",
       "3  Jodi Trevino             Unit 2443 Box 6359\\nDPO AP 04228   \n",
       "4    Lisa Baker        2986 Emily Vista\\nEast Lisa, AR 75173   \n",
       "\n",
       "                                  bs               city           state  \\\n",
       "0       iterate innovative solutions     West Elizabeth       Louisiana   \n",
       "1  leverage vertical infrastructures           Tonyfort    Pennsylvania   \n",
       "2    harness integrated action-items  North Michaelview        Kentucky   \n",
       "3       implement integrated schemas        Lake Nicole  North Carolina   \n",
       "4      benchmark world-class vortals         Cooperfurt       Wisconsin   \n",
       "\n",
       "            date_time  randomdata  \n",
       "0 2009-09-29 14:03:59        1920  \n",
       "1 1979-03-18 11:54:53        1947  \n",
       "2 1989-11-26 10:11:55        1512  \n",
       "3 1992-12-01 09:27:47        1079  \n",
       "4 2005-12-13 18:55:24        1103  "
      ]
     },
     "execution_count": 4,
     "metadata": {},
     "output_type": "execute_result"
    }
   ],
   "source": [
    "df.head()"
   ]
  },
  {
   "cell_type": "code",
   "execution_count": 5,
   "metadata": {
    "ExecuteTime": {
     "end_time": "2019-11-23T05:51:36.153946Z",
     "start_time": "2019-11-23T05:51:36.038881Z"
    }
   },
   "outputs": [],
   "source": [
    "cols = ['name', 'state', 'date_time']\n",
    "qgrid_widget = qgrid.show_grid(df[cols], show_toolbar=True, grid_options={\n",
    "    'multiSelect': False\n",
    "})\n",
    "person_out = widgets.Output()"
   ]
  },
  {
   "cell_type": "code",
   "execution_count": 6,
   "metadata": {
    "ExecuteTime": {
     "end_time": "2019-11-23T05:51:36.162867Z",
     "start_time": "2019-11-23T05:51:36.158688Z"
    }
   },
   "outputs": [],
   "source": [
    "def selection_changed_handler(event, widget):\n",
    "    person_list = event['new']\n",
    "    person_out.clear_output()\n",
    "    with person_out:\n",
    "        display(df.iloc[person_list[0]])\n",
    "    \n",
    "qgrid_widget.on('selection_changed', selection_changed_handler)"
   ]
  },
  {
   "cell_type": "code",
   "execution_count": 7,
   "metadata": {
    "ExecuteTime": {
     "end_time": "2019-11-23T05:51:36.176062Z",
     "start_time": "2019-11-23T05:51:36.165566Z"
    }
   },
   "outputs": [
    {
     "data": {
      "application/vnd.jupyter.widget-view+json": {
       "model_id": "0754fac57e8649b2ac8dbe8386c027b8",
       "version_major": 2,
       "version_minor": 0
      },
      "text/plain": [
       "QgridWidget(grid_options={'fullWidthRows': True, 'syncColumnCellResize': True, 'forceFitColumns': True, 'defau…"
      ]
     },
     "metadata": {},
     "output_type": "display_data"
    },
    {
     "data": {
      "application/vnd.jupyter.widget-view+json": {
       "model_id": "1db6fb25abf84c5aac1829a361222fa2",
       "version_major": 2,
       "version_minor": 0
      },
      "text/plain": [
       "Output()"
      ]
     },
     "metadata": {},
     "output_type": "display_data"
    }
   ],
   "source": [
    "display(qgrid_widget)\n",
    "display(person_out)"
   ]
  },
  {
   "cell_type": "code",
   "execution_count": null,
   "metadata": {},
   "outputs": [],
   "source": []
  }
 ],
 "metadata": {
  "kernelspec": {
   "display_name": "Python 3",
   "language": "python",
   "name": "python3"
  },
  "language_info": {
   "codemirror_mode": {
    "name": "ipython",
    "version": 3
   },
   "file_extension": ".py",
   "mimetype": "text/x-python",
   "name": "python",
   "nbconvert_exporter": "python",
   "pygments_lexer": "ipython3",
   "version": "3.6.8"
  },
  "nteract": {
   "version": "nteract-on-jupyter@2.1.3"
  },
  "toc": {
   "base_numbering": 1,
   "nav_menu": {},
   "number_sections": true,
   "sideBar": true,
   "skip_h1_title": false,
   "title_cell": "Table of Contents",
   "title_sidebar": "Contents",
   "toc_cell": false,
   "toc_position": {},
   "toc_section_display": true,
   "toc_window_display": false
  }
 },
 "nbformat": 4,
 "nbformat_minor": 4
}
