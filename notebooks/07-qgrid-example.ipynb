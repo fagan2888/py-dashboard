{
 "cells": [
  {
   "cell_type": "markdown",
   "metadata": {},
   "source": [
    "# Example of using qrid to display dataframes"
   ]
  },
  {
   "cell_type": "code",
   "execution_count": 1,
   "metadata": {
    "ExecuteTime": {
     "end_time": "2019-11-23T04:11:10.341979Z",
     "start_time": "2019-11-23T04:11:09.685909Z"
    }
   },
   "outputs": [],
   "source": [
    "from faker import Faker\n",
    "import pandas as pd\n",
    "import random\n",
    "import qgrid\n",
    "import ipywidgets as widgets\n",
    "from IPython.display import display"
   ]
  },
  {
   "cell_type": "code",
   "execution_count": 2,
   "metadata": {
    "ExecuteTime": {
     "end_time": "2019-11-23T04:11:10.416644Z",
     "start_time": "2019-11-23T04:11:10.346349Z"
    }
   },
   "outputs": [],
   "source": [
    "fake = Faker()\n",
    "\n",
    "def create_rows(num=1):\n",
    "    output = [{\"name\":fake.name(),\n",
    "               \"address\":fake.address(),\n",
    "               \"bs\":fake.bs(),\n",
    "               \"address\":fake.address(),\n",
    "               \"city\":fake.city(),\n",
    "               \"state\":fake.state(),\n",
    "               \"date_time\":fake.date_time(),\n",
    "               \"randomdata\":random.randint(1000,2000)} for x in range(num)]\n",
    "    return output"
   ]
  },
  {
   "cell_type": "code",
   "execution_count": 3,
   "metadata": {
    "ExecuteTime": {
     "end_time": "2019-11-23T04:11:10.840978Z",
     "start_time": "2019-11-23T04:11:10.420333Z"
    }
   },
   "outputs": [],
   "source": [
    "df = pd.DataFrame(create_rows(500))"
   ]
  },
  {
   "cell_type": "code",
   "execution_count": 4,
   "metadata": {
    "ExecuteTime": {
     "end_time": "2019-11-23T04:11:10.864129Z",
     "start_time": "2019-11-23T04:11:10.843054Z"
    }
   },
   "outputs": [
    {
     "data": {
      "text/html": [
       "<div>\n",
       "<style scoped>\n",
       "    .dataframe tbody tr th:only-of-type {\n",
       "        vertical-align: middle;\n",
       "    }\n",
       "\n",
       "    .dataframe tbody tr th {\n",
       "        vertical-align: top;\n",
       "    }\n",
       "\n",
       "    .dataframe thead th {\n",
       "        text-align: right;\n",
       "    }\n",
       "</style>\n",
       "<table border=\"1\" class=\"dataframe\">\n",
       "  <thead>\n",
       "    <tr style=\"text-align: right;\">\n",
       "      <th></th>\n",
       "      <th>name</th>\n",
       "      <th>address</th>\n",
       "      <th>bs</th>\n",
       "      <th>city</th>\n",
       "      <th>state</th>\n",
       "      <th>date_time</th>\n",
       "      <th>randomdata</th>\n",
       "    </tr>\n",
       "  </thead>\n",
       "  <tbody>\n",
       "    <tr>\n",
       "      <th>0</th>\n",
       "      <td>Jasmine Martinez</td>\n",
       "      <td>7415 Lewis Skyway\\nRichardshire, MO 36175</td>\n",
       "      <td>generate e-business e-business</td>\n",
       "      <td>Antoniofort</td>\n",
       "      <td>Montana</td>\n",
       "      <td>1993-01-19 04:17:10</td>\n",
       "      <td>1861</td>\n",
       "    </tr>\n",
       "    <tr>\n",
       "      <th>1</th>\n",
       "      <td>Whitney Johnson MD</td>\n",
       "      <td>17488 Julie Wells Apt. 615\\nPort Aaronfurt, NJ...</td>\n",
       "      <td>architect wireless technologies</td>\n",
       "      <td>East Carol</td>\n",
       "      <td>South Carolina</td>\n",
       "      <td>1990-08-08 02:57:52</td>\n",
       "      <td>1558</td>\n",
       "    </tr>\n",
       "    <tr>\n",
       "      <th>2</th>\n",
       "      <td>Pamela Burgess</td>\n",
       "      <td>28813 Derek Shoal Apt. 245\\nMontestown, DE 70832</td>\n",
       "      <td>grow out-of-the-box web-readiness</td>\n",
       "      <td>North Curtisfort</td>\n",
       "      <td>New Jersey</td>\n",
       "      <td>1990-12-09 10:41:16</td>\n",
       "      <td>1033</td>\n",
       "    </tr>\n",
       "    <tr>\n",
       "      <th>3</th>\n",
       "      <td>Denise Mooney</td>\n",
       "      <td>7290 Rojas Vista Suite 387\\nAmandamouth, CA 30852</td>\n",
       "      <td>transform distributed convergence</td>\n",
       "      <td>Henrymouth</td>\n",
       "      <td>New Jersey</td>\n",
       "      <td>2019-05-06 01:06:37</td>\n",
       "      <td>1136</td>\n",
       "    </tr>\n",
       "    <tr>\n",
       "      <th>4</th>\n",
       "      <td>Regina Long</td>\n",
       "      <td>1167 Love Canyon Apt. 196\\nMyersmouth, DE 44262</td>\n",
       "      <td>synthesize synergistic relationships</td>\n",
       "      <td>East Marieland</td>\n",
       "      <td>Texas</td>\n",
       "      <td>1973-11-14 13:17:22</td>\n",
       "      <td>1008</td>\n",
       "    </tr>\n",
       "  </tbody>\n",
       "</table>\n",
       "</div>"
      ],
      "text/plain": [
       "                 name                                            address  \\\n",
       "0    Jasmine Martinez          7415 Lewis Skyway\\nRichardshire, MO 36175   \n",
       "1  Whitney Johnson MD  17488 Julie Wells Apt. 615\\nPort Aaronfurt, NJ...   \n",
       "2      Pamela Burgess   28813 Derek Shoal Apt. 245\\nMontestown, DE 70832   \n",
       "3       Denise Mooney  7290 Rojas Vista Suite 387\\nAmandamouth, CA 30852   \n",
       "4         Regina Long    1167 Love Canyon Apt. 196\\nMyersmouth, DE 44262   \n",
       "\n",
       "                                     bs              city           state  \\\n",
       "0        generate e-business e-business       Antoniofort         Montana   \n",
       "1       architect wireless technologies        East Carol  South Carolina   \n",
       "2     grow out-of-the-box web-readiness  North Curtisfort      New Jersey   \n",
       "3     transform distributed convergence        Henrymouth      New Jersey   \n",
       "4  synthesize synergistic relationships    East Marieland           Texas   \n",
       "\n",
       "            date_time  randomdata  \n",
       "0 1993-01-19 04:17:10        1861  \n",
       "1 1990-08-08 02:57:52        1558  \n",
       "2 1990-12-09 10:41:16        1033  \n",
       "3 2019-05-06 01:06:37        1136  \n",
       "4 1973-11-14 13:17:22        1008  "
      ]
     },
     "execution_count": 4,
     "metadata": {},
     "output_type": "execute_result"
    }
   ],
   "source": [
    "df.head()"
   ]
  },
  {
   "cell_type": "code",
   "execution_count": 5,
   "metadata": {
    "ExecuteTime": {
     "end_time": "2019-11-23T04:11:10.920343Z",
     "start_time": "2019-11-23T04:11:10.866824Z"
    }
   },
   "outputs": [],
   "source": [
    "cols = ['name', 'state', 'date_time']\n",
    "qgrid_widget = qgrid.show_grid(df[cols], show_toolbar=True, grid_options={\n",
    "    'multiSelect': False\n",
    "})\n",
    "person_out = widgets.Output()"
   ]
  },
  {
   "cell_type": "code",
   "execution_count": 6,
   "metadata": {
    "ExecuteTime": {
     "end_time": "2019-11-23T04:11:10.929064Z",
     "start_time": "2019-11-23T04:11:10.924176Z"
    }
   },
   "outputs": [],
   "source": [
    "def selection_changed_handler(event, widget):\n",
    "    person_list = event['new']\n",
    "    person_out.clear_output()\n",
    "    with person_out:\n",
    "        display(df.iloc[person_list[0]])\n",
    "    \n",
    "qgrid_widget.on('selection_changed', selection_changed_handler)"
   ]
  },
  {
   "cell_type": "code",
   "execution_count": 7,
   "metadata": {
    "ExecuteTime": {
     "end_time": "2019-11-23T04:11:10.944453Z",
     "start_time": "2019-11-23T04:11:10.932997Z"
    }
   },
   "outputs": [
    {
     "data": {
      "application/vnd.jupyter.widget-view+json": {
       "model_id": "3a0a582a52324766a35c4c1b525b1ed6",
       "version_major": 2,
       "version_minor": 0
      },
      "text/plain": [
       "QgridWidget(grid_options={'fullWidthRows': True, 'syncColumnCellResize': True, 'forceFitColumns': True, 'defau…"
      ]
     },
     "metadata": {},
     "output_type": "display_data"
    },
    {
     "data": {
      "application/vnd.jupyter.widget-view+json": {
       "model_id": "fb4f7714abb44825bdd33d6b85453d42",
       "version_major": 2,
       "version_minor": 0
      },
      "text/plain": [
       "Output()"
      ]
     },
     "metadata": {},
     "output_type": "display_data"
    }
   ],
   "source": [
    "display(qgrid_widget)\n",
    "display(person_out)"
   ]
  },
  {
   "cell_type": "code",
   "execution_count": null,
   "metadata": {},
   "outputs": [],
   "source": []
  }
 ],
 "metadata": {
  "kernelspec": {
   "display_name": "Python 3",
   "language": "python",
   "name": "python3"
  },
  "language_info": {
   "codemirror_mode": {
    "name": "ipython",
    "version": 3
   },
   "file_extension": ".py",
   "mimetype": "text/x-python",
   "name": "python",
   "nbconvert_exporter": "python",
   "pygments_lexer": "ipython3",
   "version": "3.7.3"
  },
  "nteract": {
   "version": "nteract-on-jupyter@2.1.3"
  },
  "toc": {
   "base_numbering": 1,
   "nav_menu": {},
   "number_sections": true,
   "sideBar": true,
   "skip_h1_title": false,
   "title_cell": "Table of Contents",
   "title_sidebar": "Contents",
   "toc_cell": false,
   "toc_position": {},
   "toc_section_display": true,
   "toc_window_display": false
  }
 },
 "nbformat": 4,
 "nbformat_minor": 4
}
