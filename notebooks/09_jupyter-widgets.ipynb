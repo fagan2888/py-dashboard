{
 "cells": [
  {
   "cell_type": "markdown",
   "metadata": {
    "Collapsed": "false"
   },
   "source": [
    "Example of Jupyter widgets"
   ]
  },
  {
   "cell_type": "code",
   "execution_count": 1,
   "metadata": {
    "Collapsed": "false",
    "ExecuteTime": {
     "end_time": "2019-11-23T05:54:06.516721Z",
     "start_time": "2019-11-23T05:54:05.511029Z"
    }
   },
   "outputs": [],
   "source": [
    "import pandas as pd\n",
    "import random\n",
    "from faker import Faker\n",
    "\n",
    "import ipywidgets as widgets\n",
    "from IPython.display import display"
   ]
  },
  {
   "cell_type": "code",
   "execution_count": 2,
   "metadata": {
    "Collapsed": "false",
    "ExecuteTime": {
     "end_time": "2019-11-23T05:54:06.599216Z",
     "start_time": "2019-11-23T05:54:06.520387Z"
    }
   },
   "outputs": [],
   "source": [
    "fake = Faker()\n",
    "\n",
    "\n",
    "def create_rows(num=1):\n",
    "    output = [{\n",
    "        \"name\": fake.name(),\n",
    "        \"address\": fake.address(),\n",
    "        \"email\": fake.email(),\n",
    "        \"bs\": fake.bs(),\n",
    "        \"city\": fake.city(),\n",
    "        \"state\": fake.state(),\n",
    "        \"date_time\": fake.date_time(),\n",
    "        \"randomdata\": random.randint(1000, 2000)\n",
    "    } for x in range(num)]\n",
    "    return output"
   ]
  },
  {
   "cell_type": "markdown",
   "metadata": {
    "Collapsed": "false"
   },
   "source": [
    "Create a dataframe with 500 rows"
   ]
  },
  {
   "cell_type": "code",
   "execution_count": 3,
   "metadata": {
    "Collapsed": "false",
    "ExecuteTime": {
     "end_time": "2019-11-23T05:54:06.997361Z",
     "start_time": "2019-11-23T05:54:06.601989Z"
    }
   },
   "outputs": [],
   "source": [
    "df = pd.DataFrame(create_rows(500))"
   ]
  },
  {
   "cell_type": "markdown",
   "metadata": {
    "Collapsed": "false"
   },
   "source": [
    "Display the first few rows"
   ]
  },
  {
   "cell_type": "code",
   "execution_count": 4,
   "metadata": {
    "Collapsed": "false",
    "ExecuteTime": {
     "end_time": "2019-11-23T05:54:07.004091Z",
     "start_time": "2019-11-23T05:54:06.999528Z"
    }
   },
   "outputs": [],
   "source": [
    "# df.head()"
   ]
  },
  {
   "cell_type": "markdown",
   "metadata": {
    "Collapsed": "false"
   },
   "source": [
    "Choose the state initial"
   ]
  },
  {
   "cell_type": "code",
   "execution_count": 5,
   "metadata": {
    "Collapsed": "false",
    "ExecuteTime": {
     "end_time": "2019-11-23T05:54:07.022963Z",
     "start_time": "2019-11-23T05:54:07.008175Z"
    }
   },
   "outputs": [],
   "source": [
    "state_initial = sorted(df.state.str.slice(0, 1).unique())\n",
    "\n",
    "# @interact\n",
    "# def choose_state_initial(state_initial=state_initial):\n",
    "#     return df[df.state.str.slice(0, 1) == state_initial].head()\n",
    "\n",
    "\n",
    "def choose_state_initial_widget(state_initial):\n",
    "    return widgets.Dropdown(\n",
    "        options=state_initial,\n",
    "        description='State inital :',\n",
    "    )\n",
    "\n",
    "\n",
    "def choose_state_initial_handler(change):\n",
    "    if change['name'] == 'value':\n",
    "        new_initial = change['new']\n",
    "        selected_states = [\n",
    "            state for state in sorted(\n",
    "                df.state.unique()) if state.startswith(new_initial)]\n",
    "        state_widget.value = selected_states[0]\n",
    "\n",
    "\n",
    "state_initial_widget = choose_state_initial_widget(state_initial)\n",
    "state_initial_widget.observe(choose_state_initial_handler)"
   ]
  },
  {
   "cell_type": "markdown",
   "metadata": {
    "Collapsed": "false"
   },
   "source": [
    "Choose the state"
   ]
  },
  {
   "cell_type": "code",
   "execution_count": 6,
   "metadata": {
    "Collapsed": "false",
    "ExecuteTime": {
     "end_time": "2019-11-23T05:54:07.046073Z",
     "start_time": "2019-11-23T05:54:07.026659Z"
    }
   },
   "outputs": [],
   "source": [
    "non_state_columns = [\n",
    "    col_name for col_name in df.columns if col_name not in ['state']]\n",
    "state_list = sorted(df.state.unique())\n",
    "\n",
    "# @interact\n",
    "# def choose_state(state=state_list):\n",
    "#     return df[non_state_columns][df.state == state].head()\n",
    "\n",
    "\n",
    "def choose_state_widget(state=state_list):\n",
    "    return widgets.Dropdown(\n",
    "        options=state,\n",
    "        description='State :',\n",
    "    )\n",
    "\n",
    "\n",
    "state_out = widgets.Output()\n",
    "\n",
    "\n",
    "def choose_state_handler(change):\n",
    "    if change['name'] == 'value':\n",
    "        with state_out:\n",
    "            new_state = change['new']\n",
    "            state_out.clear_output()\n",
    "            display(df[df.state == new_state])\n",
    "\n",
    "\n",
    "state_widget = choose_state_widget(state_list)\n",
    "state_widget.observe(choose_state_handler)"
   ]
  },
  {
   "cell_type": "code",
   "execution_count": 7,
   "metadata": {
    "Collapsed": "false",
    "ExecuteTime": {
     "end_time": "2019-11-23T05:54:07.062895Z",
     "start_time": "2019-11-23T05:54:07.048824Z"
    }
   },
   "outputs": [
    {
     "data": {
      "application/vnd.jupyter.widget-view+json": {
       "model_id": "58d60db816754b7fa634f7ad71a7a57f",
       "version_major": 2,
       "version_minor": 0
      },
      "text/plain": [
       "Dropdown(description='State inital :', options=('A', 'C', 'D', 'F', 'G', 'H', 'I', 'K', 'L', 'M', 'N', 'O', 'P…"
      ]
     },
     "metadata": {},
     "output_type": "display_data"
    },
    {
     "data": {
      "application/vnd.jupyter.widget-view+json": {
       "model_id": "90375d4c1ee14223b0f7b123d7ab5522",
       "version_major": 2,
       "version_minor": 0
      },
      "text/plain": [
       "Dropdown(description='State :', options=('Alabama', 'Alaska', 'Arizona', 'Arkansas', 'California', 'Colorado',…"
      ]
     },
     "metadata": {},
     "output_type": "display_data"
    },
    {
     "data": {
      "application/vnd.jupyter.widget-view+json": {
       "model_id": "b50fff26e0a24701aa520b6af7981b6d",
       "version_major": 2,
       "version_minor": 0
      },
      "text/plain": [
       "Output()"
      ]
     },
     "metadata": {},
     "output_type": "display_data"
    }
   ],
   "source": [
    "display(state_initial_widget)\n",
    "display(state_widget)\n",
    "display(state_out)"
   ]
  }
 ],
 "metadata": {
  "kernelspec": {
   "display_name": "Python 3",
   "language": "python",
   "name": "python3"
  },
  "language_info": {
   "codemirror_mode": {
    "name": "ipython",
    "version": 3
   },
   "file_extension": ".py",
   "mimetype": "text/x-python",
   "name": "python",
   "nbconvert_exporter": "python",
   "pygments_lexer": "ipython3",
   "version": "3.6.8"
  },
  "toc": {
   "base_numbering": 1,
   "nav_menu": {},
   "number_sections": true,
   "sideBar": true,
   "skip_h1_title": false,
   "title_cell": "Table of Contents",
   "title_sidebar": "Contents",
   "toc_cell": false,
   "toc_position": {},
   "toc_section_display": true,
   "toc_window_display": false
  }
 },
 "nbformat": 4,
 "nbformat_minor": 4
}
