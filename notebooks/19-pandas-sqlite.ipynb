{
 "cells": [
  {
   "cell_type": "markdown",
   "metadata": {
    "ExecuteTime": {
     "end_time": "2019-11-10T04:01:01.338428Z",
     "start_time": "2019-11-10T04:01:01.334925Z"
    }
   },
   "source": [
    "# Sqlite with pandas"
   ]
  },
  {
   "cell_type": "markdown",
   "metadata": {},
   "source": [
    "https://cldellow.com/2018/06/22/sqlite-parquet-vtable.html"
   ]
  },
  {
   "cell_type": "markdown",
   "metadata": {},
   "source": [
    "## Setup libraries"
   ]
  },
  {
   "cell_type": "code",
   "execution_count": 1,
   "metadata": {
    "ExecuteTime": {
     "end_time": "2020-02-08T04:24:24.221877Z",
     "start_time": "2020-02-08T04:24:16.670886Z"
    }
   },
   "outputs": [],
   "source": [
    "import pandas as pd\n",
    "# import modin.pandas as pd  # does not work\n",
    "import numpy as np\n",
    "from faker import Faker\n",
    "import datetime as dt\n",
    "from pathlib import Path"
   ]
  },
  {
   "cell_type": "code",
   "execution_count": 2,
   "metadata": {
    "ExecuteTime": {
     "end_time": "2020-02-08T04:24:24.922541Z",
     "start_time": "2020-02-08T04:24:24.223891Z"
    }
   },
   "outputs": [],
   "source": [
    "from sqlalchemy import create_engine\n",
    "engine = create_engine('sqlite://', echo=False)"
   ]
  },
  {
   "cell_type": "markdown",
   "metadata": {},
   "source": [
    "## Create data"
   ]
  },
  {
   "cell_type": "code",
   "execution_count": 3,
   "metadata": {
    "ExecuteTime": {
     "end_time": "2020-02-08T04:24:25.139576Z",
     "start_time": "2020-02-08T04:24:24.924877Z"
    }
   },
   "outputs": [],
   "source": [
    "fake = Faker()"
   ]
  },
  {
   "cell_type": "code",
   "execution_count": 4,
   "metadata": {
    "ExecuteTime": {
     "end_time": "2020-02-08T04:24:25.145230Z",
     "start_time": "2020-02-08T04:24:25.141369Z"
    }
   },
   "outputs": [],
   "source": [
    "def create_rows(num=1):\n",
    "    output = [{\n",
    "        \"name\": fake.name(),\n",
    "        \"state\": fake.state(),\n",
    "        \"date_time\": fake.date_time(end_datetime=dt.datetime(1990, 1, 1)),\n",
    "        \"randomdata\": np.random.randint(10, 100)  # two digit number\n",
    "    } for x in range(num)]\n",
    "    return output"
   ]
  },
  {
   "cell_type": "markdown",
   "metadata": {},
   "source": [
    "Read or create data frame"
   ]
  },
  {
   "cell_type": "code",
   "execution_count": 5,
   "metadata": {
    "ExecuteTime": {
     "end_time": "2020-02-08T04:24:25.163220Z",
     "start_time": "2020-02-08T04:24:25.159693Z"
    }
   },
   "outputs": [],
   "source": [
    "data_file = Path('random_data.parq.gz')"
   ]
  },
  {
   "cell_type": "code",
   "execution_count": 6,
   "metadata": {
    "ExecuteTime": {
     "end_time": "2020-02-08T04:24:27.502516Z",
     "start_time": "2020-02-08T04:24:25.176611Z"
    }
   },
   "outputs": [],
   "source": [
    "if data_file.exists():\n",
    "    df = pd.read_parquet(data_file)\n",
    "else:\n",
    "    df = pd.DataFrame(create_rows(num=3_000_000))\n",
    "    df.to_parquet(data_file, index=False, compression='gzip')"
   ]
  },
  {
   "cell_type": "code",
   "execution_count": 7,
   "metadata": {
    "ExecuteTime": {
     "end_time": "2020-02-08T04:24:27.541732Z",
     "start_time": "2020-02-08T04:24:27.504875Z"
    }
   },
   "outputs": [
    {
     "data": {
      "text/html": [
       "<div>\n",
       "<style scoped>\n",
       "    .dataframe tbody tr th:only-of-type {\n",
       "        vertical-align: middle;\n",
       "    }\n",
       "\n",
       "    .dataframe tbody tr th {\n",
       "        vertical-align: top;\n",
       "    }\n",
       "\n",
       "    .dataframe thead th {\n",
       "        text-align: right;\n",
       "    }\n",
       "</style>\n",
       "<table border=\"1\" class=\"dataframe\">\n",
       "  <thead>\n",
       "    <tr style=\"text-align: right;\">\n",
       "      <th></th>\n",
       "      <th>name</th>\n",
       "      <th>state</th>\n",
       "      <th>date_time</th>\n",
       "      <th>randomdata</th>\n",
       "    </tr>\n",
       "  </thead>\n",
       "  <tbody>\n",
       "    <tr>\n",
       "      <th>0</th>\n",
       "      <td>Lisa Tucker</td>\n",
       "      <td>Vermont</td>\n",
       "      <td>1982-09-23 02:13:32</td>\n",
       "      <td>17</td>\n",
       "    </tr>\n",
       "    <tr>\n",
       "      <th>1</th>\n",
       "      <td>Jonathan Drake</td>\n",
       "      <td>California</td>\n",
       "      <td>1982-06-28 04:53:28</td>\n",
       "      <td>32</td>\n",
       "    </tr>\n",
       "    <tr>\n",
       "      <th>2</th>\n",
       "      <td>Ruth Cohen</td>\n",
       "      <td>Delaware</td>\n",
       "      <td>1980-10-26 10:11:03</td>\n",
       "      <td>90</td>\n",
       "    </tr>\n",
       "    <tr>\n",
       "      <th>3</th>\n",
       "      <td>Samuel Stephens</td>\n",
       "      <td>Tennessee</td>\n",
       "      <td>1973-11-20 00:05:53</td>\n",
       "      <td>94</td>\n",
       "    </tr>\n",
       "    <tr>\n",
       "      <th>4</th>\n",
       "      <td>Erik Osborne</td>\n",
       "      <td>Nevada</td>\n",
       "      <td>1971-02-07 23:32:13</td>\n",
       "      <td>43</td>\n",
       "    </tr>\n",
       "  </tbody>\n",
       "</table>\n",
       "</div>"
      ],
      "text/plain": [
       "              name       state           date_time  randomdata\n",
       "0      Lisa Tucker     Vermont 1982-09-23 02:13:32          17\n",
       "1   Jonathan Drake  California 1982-06-28 04:53:28          32\n",
       "2       Ruth Cohen    Delaware 1980-10-26 10:11:03          90\n",
       "3  Samuel Stephens   Tennessee 1973-11-20 00:05:53          94\n",
       "4     Erik Osborne      Nevada 1971-02-07 23:32:13          43"
      ]
     },
     "execution_count": 7,
     "metadata": {},
     "output_type": "execute_result"
    }
   ],
   "source": [
    "df.head()\n",
    "# data_file = Path('random_data.csv.gz')\n",
    "# df.to_csv(data_file, index=False, compression='gzip')\n",
    "# df2 = pd.read_csv(data_file)"
   ]
  },
  {
   "cell_type": "markdown",
   "metadata": {},
   "source": [
    "Find non-unique name state combinations"
   ]
  },
  {
   "cell_type": "code",
   "execution_count": 8,
   "metadata": {
    "ExecuteTime": {
     "end_time": "2020-02-08T04:24:27.548188Z",
     "start_time": "2020-02-08T04:24:27.544921Z"
    }
   },
   "outputs": [],
   "source": [
    "# name_state = df.groupby(['name', 'state']).size()\n",
    "# name_state_duplicate = name_state[name_state > 1].to_frame('number')\n",
    "# name_state_duplicate.head()\n",
    "# combined = df.merge(name_state_duplicate, how='left', on=['name', 'state'])"
   ]
  },
  {
   "cell_type": "markdown",
   "metadata": {},
   "source": [
    "Merge data"
   ]
  },
  {
   "cell_type": "code",
   "execution_count": 9,
   "metadata": {
    "ExecuteTime": {
     "end_time": "2020-02-08T04:24:32.505550Z",
     "start_time": "2020-02-08T04:24:27.561228Z"
    }
   },
   "outputs": [],
   "source": [
    "combined = df.merge(df, how='left', on=['name', 'state'])"
   ]
  },
  {
   "cell_type": "code",
   "execution_count": 10,
   "metadata": {
    "ExecuteTime": {
     "end_time": "2020-02-08T04:24:32.513002Z",
     "start_time": "2020-02-08T04:24:32.507674Z"
    }
   },
   "outputs": [
    {
     "data": {
      "text/plain": [
       "(5775252, 6)"
      ]
     },
     "execution_count": 10,
     "metadata": {},
     "output_type": "execute_result"
    }
   ],
   "source": [
    "combined.shape"
   ]
  },
  {
   "cell_type": "code",
   "execution_count": 11,
   "metadata": {
    "ExecuteTime": {
     "end_time": "2020-02-08T04:24:32.540151Z",
     "start_time": "2020-02-08T04:24:32.524672Z"
    }
   },
   "outputs": [
    {
     "data": {
      "text/html": [
       "<div>\n",
       "<style scoped>\n",
       "    .dataframe tbody tr th:only-of-type {\n",
       "        vertical-align: middle;\n",
       "    }\n",
       "\n",
       "    .dataframe tbody tr th {\n",
       "        vertical-align: top;\n",
       "    }\n",
       "\n",
       "    .dataframe thead th {\n",
       "        text-align: right;\n",
       "    }\n",
       "</style>\n",
       "<table border=\"1\" class=\"dataframe\">\n",
       "  <thead>\n",
       "    <tr style=\"text-align: right;\">\n",
       "      <th></th>\n",
       "      <th>name</th>\n",
       "      <th>state</th>\n",
       "      <th>date_time_x</th>\n",
       "      <th>randomdata_x</th>\n",
       "      <th>date_time_y</th>\n",
       "      <th>randomdata_y</th>\n",
       "    </tr>\n",
       "  </thead>\n",
       "  <tbody>\n",
       "    <tr>\n",
       "      <th>0</th>\n",
       "      <td>Lisa Tucker</td>\n",
       "      <td>Vermont</td>\n",
       "      <td>1982-09-23 02:13:32</td>\n",
       "      <td>17</td>\n",
       "      <td>1982-09-23 02:13:32</td>\n",
       "      <td>17</td>\n",
       "    </tr>\n",
       "    <tr>\n",
       "      <th>1</th>\n",
       "      <td>Jonathan Drake</td>\n",
       "      <td>California</td>\n",
       "      <td>1982-06-28 04:53:28</td>\n",
       "      <td>32</td>\n",
       "      <td>1982-06-28 04:53:28</td>\n",
       "      <td>32</td>\n",
       "    </tr>\n",
       "    <tr>\n",
       "      <th>2</th>\n",
       "      <td>Jonathan Drake</td>\n",
       "      <td>California</td>\n",
       "      <td>1982-06-28 04:53:28</td>\n",
       "      <td>32</td>\n",
       "      <td>1985-08-16 16:52:52</td>\n",
       "      <td>29</td>\n",
       "    </tr>\n",
       "    <tr>\n",
       "      <th>3</th>\n",
       "      <td>Ruth Cohen</td>\n",
       "      <td>Delaware</td>\n",
       "      <td>1980-10-26 10:11:03</td>\n",
       "      <td>90</td>\n",
       "      <td>1980-10-26 10:11:03</td>\n",
       "      <td>90</td>\n",
       "    </tr>\n",
       "    <tr>\n",
       "      <th>4</th>\n",
       "      <td>Samuel Stephens</td>\n",
       "      <td>Tennessee</td>\n",
       "      <td>1973-11-20 00:05:53</td>\n",
       "      <td>94</td>\n",
       "      <td>1973-11-20 00:05:53</td>\n",
       "      <td>94</td>\n",
       "    </tr>\n",
       "  </tbody>\n",
       "</table>\n",
       "</div>"
      ],
      "text/plain": [
       "              name       state         date_time_x  randomdata_x  \\\n",
       "0      Lisa Tucker     Vermont 1982-09-23 02:13:32            17   \n",
       "1   Jonathan Drake  California 1982-06-28 04:53:28            32   \n",
       "2   Jonathan Drake  California 1982-06-28 04:53:28            32   \n",
       "3       Ruth Cohen    Delaware 1980-10-26 10:11:03            90   \n",
       "4  Samuel Stephens   Tennessee 1973-11-20 00:05:53            94   \n",
       "\n",
       "          date_time_y  randomdata_y  \n",
       "0 1982-09-23 02:13:32            17  \n",
       "1 1982-06-28 04:53:28            32  \n",
       "2 1985-08-16 16:52:52            29  \n",
       "3 1980-10-26 10:11:03            90  \n",
       "4 1973-11-20 00:05:53            94  "
      ]
     },
     "execution_count": 11,
     "metadata": {},
     "output_type": "execute_result"
    }
   ],
   "source": [
    "combined.head()"
   ]
  },
  {
   "cell_type": "markdown",
   "metadata": {},
   "source": [
    "## Use sqlite"
   ]
  },
  {
   "cell_type": "code",
   "execution_count": 14,
   "metadata": {
    "ExecuteTime": {
     "end_time": "2020-02-08T04:25:02.461004Z",
     "start_time": "2020-02-08T04:24:32.611725Z"
    }
   },
   "outputs": [],
   "source": [
    "df.to_sql('data_table', index=False, con=engine, if_exists='replace')"
   ]
  },
  {
   "cell_type": "code",
   "execution_count": 15,
   "metadata": {
    "ExecuteTime": {
     "end_time": "2020-02-08T04:25:08.556596Z",
     "start_time": "2020-02-08T04:25:02.463302Z"
    }
   },
   "outputs": [
    {
     "data": {
      "text/plain": [
       "<sqlalchemy.engine.result.ResultProxy at 0x7f1b7057da58>"
      ]
     },
     "execution_count": 15,
     "metadata": {},
     "output_type": "execute_result"
    }
   ],
   "source": [
    "engine.execute('CREATE INDEX join_index ON data_table (name, state)')  # speeds up join"
   ]
  },
  {
   "cell_type": "code",
   "execution_count": 16,
   "metadata": {
    "ExecuteTime": {
     "end_time": "2020-02-08T04:25:08.562382Z",
     "start_time": "2020-02-08T04:25:08.558695Z"
    }
   },
   "outputs": [],
   "source": [
    "query = '''\n",
    "    select count(*) number\n",
    "        -- dt1.name, dt1.state,\n",
    "        -- dt1.date_time dt1, dt1.randomdata rd1,\n",
    "        -- dt2.date_time dt2, dt2.randomdata rd2\n",
    "    from data_table dt1\n",
    "        left join data_table dt2\n",
    "            on dt1.name = dt2.name\n",
    "            and dt1.state = dt2.state\n",
    "'''"
   ]
  },
  {
   "cell_type": "code",
   "execution_count": 17,
   "metadata": {
    "ExecuteTime": {
     "end_time": "2020-02-08T04:25:10.395210Z",
     "start_time": "2020-02-08T04:25:08.574375Z"
    }
   },
   "outputs": [],
   "source": [
    "df2 = pd.read_sql_query(query, engine)"
   ]
  },
  {
   "cell_type": "code",
   "execution_count": 18,
   "metadata": {
    "ExecuteTime": {
     "end_time": "2020-02-08T04:25:10.404658Z",
     "start_time": "2020-02-08T04:25:10.397346Z"
    }
   },
   "outputs": [
    {
     "data": {
      "text/html": [
       "<div>\n",
       "<style scoped>\n",
       "    .dataframe tbody tr th:only-of-type {\n",
       "        vertical-align: middle;\n",
       "    }\n",
       "\n",
       "    .dataframe tbody tr th {\n",
       "        vertical-align: top;\n",
       "    }\n",
       "\n",
       "    .dataframe thead th {\n",
       "        text-align: right;\n",
       "    }\n",
       "</style>\n",
       "<table border=\"1\" class=\"dataframe\">\n",
       "  <thead>\n",
       "    <tr style=\"text-align: right;\">\n",
       "      <th></th>\n",
       "      <th>number</th>\n",
       "    </tr>\n",
       "  </thead>\n",
       "  <tbody>\n",
       "    <tr>\n",
       "      <th>0</th>\n",
       "      <td>5775252</td>\n",
       "    </tr>\n",
       "  </tbody>\n",
       "</table>\n",
       "</div>"
      ],
      "text/plain": [
       "    number\n",
       "0  5775252"
      ]
     },
     "execution_count": 18,
     "metadata": {},
     "output_type": "execute_result"
    }
   ],
   "source": [
    "df2.head()"
   ]
  },
  {
   "cell_type": "code",
   "execution_count": 19,
   "metadata": {
    "ExecuteTime": {
     "end_time": "2020-02-08T04:25:10.476189Z",
     "start_time": "2020-02-08T04:25:10.415781Z"
    }
   },
   "outputs": [],
   "source": [
    "engine.dispose()\n",
    "del engine"
   ]
  },
  {
   "cell_type": "code",
   "execution_count": null,
   "metadata": {},
   "outputs": [],
   "source": []
  }
 ],
 "metadata": {
  "kernelspec": {
   "display_name": "Python 3",
   "language": "python",
   "name": "python3"
  },
  "language_info": {
   "codemirror_mode": {
    "name": "ipython",
    "version": 3
   },
   "file_extension": ".py",
   "mimetype": "text/x-python",
   "name": "python",
   "nbconvert_exporter": "python",
   "pygments_lexer": "ipython3",
   "version": "3.6.9"
  },
  "toc": {
   "base_numbering": 1,
   "nav_menu": {},
   "number_sections": true,
   "sideBar": true,
   "skip_h1_title": false,
   "title_cell": "Table of Contents",
   "title_sidebar": "Contents",
   "toc_cell": false,
   "toc_position": {},
   "toc_section_display": true,
   "toc_window_display": false
  }
 },
 "nbformat": 4,
 "nbformat_minor": 2
}
