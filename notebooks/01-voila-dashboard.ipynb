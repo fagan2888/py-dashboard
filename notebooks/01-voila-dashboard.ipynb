{
 "cells": [
  {
   "cell_type": "code",
   "execution_count": 1,
   "metadata": {
    "ExecuteTime": {
     "end_time": "2019-11-04T00:33:17.398322Z",
     "start_time": "2019-11-04T00:33:17.395477Z"
    }
   },
   "outputs": [],
   "source": [
    "## Setup libraries"
   ]
  },
  {
   "cell_type": "code",
   "execution_count": 2,
   "metadata": {
    "ExecuteTime": {
     "end_time": "2019-11-04T00:33:30.023911Z",
     "start_time": "2019-11-04T00:33:17.405143Z"
    }
   },
   "outputs": [],
   "source": [
    "import numpy as np\n",
    "import pandas as pd\n",
    "import matplotlib as mpl\n",
    "import seaborn as sns\n",
    "from ipywidgets import interact, interactive, fixed, interact_manual\n",
    "import ipywidgets as widgets\n",
    "\n",
    "from IPython.display import display"
   ]
  },
  {
   "cell_type": "code",
   "execution_count": 3,
   "metadata": {
    "ExecuteTime": {
     "end_time": "2019-11-04T00:33:30.029634Z",
     "start_time": "2019-11-04T00:33:30.026433Z"
    }
   },
   "outputs": [],
   "source": [
    "# %matplotlib inline"
   ]
  },
  {
   "cell_type": "code",
   "execution_count": 4,
   "metadata": {
    "ExecuteTime": {
     "end_time": "2019-11-04T00:33:30.038580Z",
     "start_time": "2019-11-04T00:33:30.033492Z"
    }
   },
   "outputs": [],
   "source": [
    "## Get data"
   ]
  },
  {
   "cell_type": "code",
   "execution_count": 5,
   "metadata": {
    "ExecuteTime": {
     "end_time": "2019-11-04T00:33:30.049718Z",
     "start_time": "2019-11-04T00:33:30.042101Z"
    }
   },
   "outputs": [],
   "source": [
    "# create dataframe\n",
    "df = pd.DataFrame({\n",
    "    'items': [1, 2, 3] * 3,\n",
    "    'fruits': ['apple'] * 3 + ['banana'] * 3 + ['cantaloupe'] * 3,\n",
    "    'weight': [0.3, 0.2, 0.4, 5, 4.5, 4.6, 5, 4.7, 4],\n",
    "})"
   ]
  },
  {
   "cell_type": "code",
   "execution_count": 6,
   "metadata": {
    "ExecuteTime": {
     "end_time": "2019-11-04T00:33:30.062381Z",
     "start_time": "2019-11-04T00:33:30.052186Z"
    }
   },
   "outputs": [],
   "source": [
    "# set rating\n",
    "rate_df = pd.DataFrame({\n",
    "    'fruits': ['apple', 'banana', 'cantaloupe'],\n",
    "    'rate': ['unknown', 'unknown', 'unknown']\n",
    "}).set_index('fruits')"
   ]
  },
  {
   "cell_type": "code",
   "execution_count": 7,
   "metadata": {
    "ExecuteTime": {
     "end_time": "2019-11-04T00:33:30.075247Z",
     "start_time": "2019-11-04T00:33:30.066078Z"
    }
   },
   "outputs": [],
   "source": [
    "fruits = df.fruits.unique()\n",
    "\n",
    "def plot_fruit(fruit):\n",
    "    g = sns.relplot(x='items', y='weight', data=df[df.fruits==fruit])\n",
    "    for ax in g.axes.flat:\n",
    "        ax.set_ylim(0, 6)\n",
    "        ax.set_ylabel('weight - lbs')"
   ]
  },
  {
   "cell_type": "markdown",
   "metadata": {},
   "source": [
    "## Instructions\n",
    "\n",
    "1. From the drop down select one fruit at a time\n",
    "2. On the horizontal axis are three samples of the fruit\n",
    "3. On the vertical axis are the weights of each fruit\n",
    "\n",
    "For which fruit(s) are the measurements wrong?"
   ]
  },
  {
   "cell_type": "code",
   "execution_count": 8,
   "metadata": {
    "ExecuteTime": {
     "end_time": "2019-11-04T00:33:30.526501Z",
     "start_time": "2019-11-04T00:33:30.077957Z"
    }
   },
   "outputs": [
    {
     "data": {
      "application/vnd.jupyter.widget-view+json": {
       "model_id": "623486d69ccc46dba85ed6acc1c639e7",
       "version_major": 2,
       "version_minor": 0
      },
      "text/plain": [
       "HBox(children=(RadioButtons(index=2, options=('good', 'bad', 'unknown'), value='unknown'), Button(description=…"
      ]
     },
     "metadata": {},
     "output_type": "display_data"
    },
    {
     "data": {
      "application/vnd.jupyter.widget-view+json": {
       "model_id": "d2fb53732f5b478f9d28e2caca545dd3",
       "version_major": 2,
       "version_minor": 0
      },
      "text/plain": [
       "interactive(children=(Dropdown(description='Fruit:', options=('apple', 'banana', 'cantaloupe'), value='apple')…"
      ]
     },
     "metadata": {},
     "output_type": "display_data"
    }
   ],
   "source": [
    "button = widgets.Button(description=\"Next\")\n",
    "rate = widgets.RadioButtons(\n",
    "    options=['good', 'bad', 'unknown'],\n",
    "    description='',\n",
    "    value='unknown',\n",
    "    disabled=False\n",
    ")\n",
    "choice = widgets.Dropdown(\n",
    "    options=fruits,\n",
    "    value=fruits[0],\n",
    "    description='Fruit:',\n",
    ")\n",
    "plot = interactive(plot_fruit, fruit=choice)\n",
    "\n",
    "def on_button_clicked(b):\n",
    "    current_idx = plot.children[0].index\n",
    "    current_fruit = fruits[current_idx]\n",
    "    rate_df.loc[current_fruit, 'rate'] = rate.value\n",
    "    \n",
    "    new_index = (current_idx + 1) % len(fruits)\n",
    "    new_fruit = fruits[new_index]\n",
    "    rate.value = rate_df.loc[new_fruit, 'rate']\n",
    "    plot.children[0].value = new_fruit\n",
    "\n",
    "button.on_click(on_button_clicked)\n",
    "display(widgets.HBox([rate, button]), plot)"
   ]
  }
 ],
 "metadata": {
  "kernelspec": {
   "display_name": "Python 3",
   "language": "python",
   "name": "python3"
  },
  "language_info": {
   "codemirror_mode": {
    "name": "ipython",
    "version": 3
   },
   "file_extension": ".py",
   "mimetype": "text/x-python",
   "name": "python",
   "nbconvert_exporter": "python",
   "pygments_lexer": "ipython3",
   "version": "3.6.8"
  },
  "toc": {
   "base_numbering": 1,
   "nav_menu": {},
   "number_sections": true,
   "sideBar": true,
   "skip_h1_title": false,
   "title_cell": "Table of Contents",
   "title_sidebar": "Contents",
   "toc_cell": false,
   "toc_position": {},
   "toc_section_display": true,
   "toc_window_display": false
  }
 },
 "nbformat": 4,
 "nbformat_minor": 2
}
