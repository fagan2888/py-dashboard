{
 "cells": [
  {
   "cell_type": "code",
   "execution_count": 57,
   "metadata": {
    "ExecuteTime": {
     "end_time": "2019-09-22T01:43:40.982377Z",
     "start_time": "2019-09-22T01:43:40.979396Z"
    }
   },
   "outputs": [],
   "source": [
    "## Setup libraries"
   ]
  },
  {
   "cell_type": "code",
   "execution_count": 58,
   "metadata": {
    "ExecuteTime": {
     "end_time": "2019-09-22T01:43:41.669807Z",
     "start_time": "2019-09-22T01:43:41.666226Z"
    }
   },
   "outputs": [],
   "source": [
    "import numpy as np\n",
    "import pandas as pd\n",
    "import matplotlib as mpl\n",
    "import seaborn as sns\n",
    "from ipywidgets import interact, interactive, fixed, interact_manual\n",
    "import ipywidgets as widgets\n",
    "\n",
    "from IPython.display import display"
   ]
  },
  {
   "cell_type": "code",
   "execution_count": 59,
   "metadata": {
    "ExecuteTime": {
     "end_time": "2019-09-22T01:43:43.244449Z",
     "start_time": "2019-09-22T01:43:43.241157Z"
    }
   },
   "outputs": [],
   "source": [
    "# %matplotlib inline"
   ]
  },
  {
   "cell_type": "code",
   "execution_count": 60,
   "metadata": {
    "ExecuteTime": {
     "end_time": "2019-09-22T01:43:46.756128Z",
     "start_time": "2019-09-22T01:43:46.753330Z"
    }
   },
   "outputs": [],
   "source": [
    "## Get data"
   ]
  },
  {
   "cell_type": "code",
   "execution_count": 61,
   "metadata": {
    "ExecuteTime": {
     "end_time": "2019-09-22T01:43:47.597729Z",
     "start_time": "2019-09-22T01:43:47.592069Z"
    }
   },
   "outputs": [],
   "source": [
    "# create dataframe\n",
    "df = pd.DataFrame({\n",
    "    'items': [1, 2, 3] * 3,\n",
    "    'fruits': ['apple'] * 3 + ['banana'] * 3 + ['cantaloupe'] * 3,\n",
    "    'weight': [0.3, 0.2, 0.4, 5, 4.5, 4.6, 5, 4.7, 4],\n",
    "})"
   ]
  },
  {
   "cell_type": "code",
   "execution_count": 62,
   "metadata": {
    "ExecuteTime": {
     "end_time": "2019-09-22T01:43:47.783690Z",
     "start_time": "2019-09-22T01:43:47.778347Z"
    }
   },
   "outputs": [],
   "source": [
    "# set rating\n",
    "rate_df = pd.DataFrame({\n",
    "    'fruits': ['apple', 'banana', 'cantaloupe'],\n",
    "    'rate': ['unknown', 'unknown', 'unknown']\n",
    "}).set_index('fruits')"
   ]
  },
  {
   "cell_type": "code",
   "execution_count": 46,
   "metadata": {
    "ExecuteTime": {
     "end_time": "2019-09-22T01:37:09.205871Z",
     "start_time": "2019-09-22T01:37:09.203432Z"
    }
   },
   "outputs": [],
   "source": [
    "# g = sns.relplot(x=\"items\", y=\"weight\", col=\"fruits\", data=df)\n",
    "# for ax in g.axes.flat:\n",
    "#     ax.set_ylim(0, 10)"
   ]
  },
  {
   "cell_type": "code",
   "execution_count": 47,
   "metadata": {
    "ExecuteTime": {
     "end_time": "2019-09-22T01:37:09.502123Z",
     "start_time": "2019-09-22T01:37:09.496447Z"
    }
   },
   "outputs": [],
   "source": [
    "fruits = df.fruits.unique()\n",
    "\n",
    "def plot_fruit(fruit):\n",
    "    g = sns.relplot(x='items', y='weight', data=df[df.fruits==fruit])\n",
    "    for ax in g.axes.flat:\n",
    "        ax.set_ylim(0, 6)\n",
    "        ax.set_ylabel('weight - lbs')"
   ]
  },
  {
   "cell_type": "markdown",
   "metadata": {},
   "source": [
    "## Instructions\n",
    "\n",
    "1. From the drop down select one fruit at a time\n",
    "2. On the horizontal axis are three samples of the fruit\n",
    "3. On the vertical axis are the weights of each fruit\n",
    "\n",
    "For which fruit(s) are the measurements wrong?"
   ]
  },
  {
   "cell_type": "code",
   "execution_count": 56,
   "metadata": {
    "ExecuteTime": {
     "end_time": "2019-09-22T01:42:34.715217Z",
     "start_time": "2019-09-22T01:42:34.411474Z"
    }
   },
   "outputs": [
    {
     "data": {
      "application/vnd.jupyter.widget-view+json": {
       "model_id": "b634a9165b3e424d9143c80cfd8de839",
       "version_major": 2,
       "version_minor": 0
      },
      "text/plain": [
       "Button(description='Next', style=ButtonStyle())"
      ]
     },
     "metadata": {},
     "output_type": "display_data"
    },
    {
     "data": {
      "application/vnd.jupyter.widget-view+json": {
       "model_id": "ffd56a4a314144f3811ec093cee0bd42",
       "version_major": 2,
       "version_minor": 0
      },
      "text/plain": [
       "RadioButtons(index=2, options=('good', 'bad', 'unknown'), value='unknown')"
      ]
     },
     "metadata": {},
     "output_type": "display_data"
    },
    {
     "data": {
      "application/vnd.jupyter.widget-view+json": {
       "model_id": "6da271ba0dea409784e322229ea3e80d",
       "version_major": 2,
       "version_minor": 0
      },
      "text/plain": [
       "interactive(children=(Dropdown(description='Fruit:', options=('apple', 'banana', 'cantaloupe'), value='apple')…"
      ]
     },
     "metadata": {},
     "output_type": "display_data"
    }
   ],
   "source": [
    "button = widgets.Button(description=\"Next\")\n",
    "rate = widgets.RadioButtons(\n",
    "    options=['good', 'bad', 'unknown'],\n",
    "    description='',\n",
    "    value='unknown',\n",
    "    disabled=False\n",
    ")\n",
    "choice = widgets.Dropdown(\n",
    "    options=fruits,\n",
    "    value=fruits[0],\n",
    "    description='Fruit:',\n",
    ")\n",
    "plot = interactive(plot_fruit, fruit=choice)\n",
    "\n",
    "def on_button_clicked(b):\n",
    "    current_idx = plot.children[0].index\n",
    "    current_fruit = fruits[current_idx]\n",
    "    rate_df.loc[current_fruit, 'rate'] = rate.value\n",
    "    \n",
    "    new_index = (current_idx + 1) % len(fruits)\n",
    "    new_fruit = fruits[new_index]\n",
    "    plot.children[0].value = new_fruit\n",
    "    rate.value = rate_df.loc[new_fruit, 'rate']\n",
    "\n",
    "button.on_click(on_button_clicked)\n",
    "display(button, rate, plot)"
   ]
  }
 ],
 "metadata": {
  "kernelspec": {
   "display_name": "Python 3",
   "language": "python",
   "name": "python3"
  },
  "language_info": {
   "codemirror_mode": {
    "name": "ipython",
    "version": 3
   },
   "file_extension": ".py",
   "mimetype": "text/x-python",
   "name": "python",
   "nbconvert_exporter": "python",
   "pygments_lexer": "ipython3",
   "version": "3.6.8"
  },
  "toc": {
   "base_numbering": 1,
   "nav_menu": {},
   "number_sections": true,
   "sideBar": true,
   "skip_h1_title": false,
   "title_cell": "Table of Contents",
   "title_sidebar": "Contents",
   "toc_cell": false,
   "toc_position": {},
   "toc_section_display": true,
   "toc_window_display": false
  }
 },
 "nbformat": 4,
 "nbformat_minor": 2
}
